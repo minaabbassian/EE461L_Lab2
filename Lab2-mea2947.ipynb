{
 "cells": [
  {
   "cell_type": "code",
   "execution_count": 4,
   "metadata": {},
   "outputs": [],
   "source": [
    "# Task 1: Custom Encryption function\n",
    "# Inputs: \n",
    "    # string inputText: text to be encrypted\n",
    "    # Int N: number of positions to shift characters in the inputText by (has to be >= 1)\n",
    "    # Int D = direction of shift (+1 shift right, -1 shift left)\n",
    "def customEncrypt(inputText, N, D) :\n",
    "    #reverse input\n",
    "    reverseText = inputText[::-1] #start at the end of the string and end at position 0, step -1\n",
    "    \n",
    "    #take the reversed input as a list\n",
    "    input_list = list(reverseText)\n",
    "    \n",
    "    #iterate reversed list\n",
    "    for index, item in enumerate(input_list) :\n",
    "       \n",
    "        #store duplicate of N \n",
    "        dup = N\n",
    "        \n",
    "        if D == 1 : #shift right \n",
    "            char_num = ord(input_list[index]) \n",
    "            #check if reached end of ASCII table\n",
    "            if (char_num + N) > 126 :\n",
    "                N -= (126 - char_num)\n",
    "                N = N % 93\n",
    "                input_list[index] = chr(33 + N)\n",
    "            else :\n",
    "                input_list[index] = chr(char_num + N)\n",
    "                \n",
    "        else : #shift left\n",
    "            char_num = ord(input_list[index]) \n",
    "            #check if reached beginning of ASCII table\n",
    "            if (char_num - N) < 34 :\n",
    "                N += (34 - char_num)\n",
    "                N = N % 93\n",
    "                input_list[index] = chr(127 - N)\n",
    "            else :\n",
    "                input_list[index] = chr(char_num - N)\n",
    "        \n",
    "        #restore N to its original value\n",
    "        N = dup\n",
    "        \n",
    "    #convert list back to string \n",
    "    encrypted_string = \"\".join(input_list)\n",
    "    return encrypted_string\n"
   ]
  },
  {
   "cell_type": "code",
   "execution_count": 5,
   "metadata": {},
   "outputs": [],
   "source": [
    "#Helper functions to check if the user inputs are valid\n",
    "def checkTextValidity(inputText) :\n",
    "    isValid = \"Valid\"\n",
    "    for char in inputText :\n",
    "        if (ord(char) == 32) or (ord(char) == 33) :\n",
    "            isValid = \"Invalid Input: contains \" + char\n",
    "    return isValid\n",
    "\n",
    "def checkDValidity(D) :\n",
    "    isValid = \"Valid\"\n",
    "    if (int(D) != 1) and (int(D) != -1) :\n",
    "            isValid = \"Invalid Input!! D must be 1 or -1\"\n",
    "    return isValid\n",
    "\n",
    "def checkNValidity(N) :\n",
    "    isValid = \"Valid\"\n",
    "    if int(N) < 1 :\n",
    "            isValid = \"Invalid Input!! N must be >= 1\"\n",
    "    return isValid"
   ]
  },
  {
   "cell_type": "code",
   "execution_count": 11,
   "metadata": {},
   "outputs": [
    {
     "name": "stdout",
     "output_type": "stream",
     "text": [
      "Testing Custom Encryption Algorithm\n"
     ]
    },
    {
     "name": "stdin",
     "output_type": "stream",
     "text": [
      "Enter UserID as text: skharel\n",
      "Enter password as text: Life15$\n",
      "Please enter a value for N: 3\n",
      "Please enter a value for D: 1\n"
     ]
    },
    {
     "name": "stdout",
     "output_type": "stream",
     "text": [
      "Encrypted userID: ohudknv\n",
      "Encrypted password: '84hilO\n",
      "Original userID: skharel\n",
      "Original password: Life15$\n"
     ]
    }
   ],
   "source": [
    "# Task 2: Test Customer Encryption Code Function\n",
    "def testCustomEncrypt() :\n",
    "    print(\"Testing Custom Encryption Algorithm\")\n",
    "    \n",
    "    #ask for UserID\n",
    "    user_input = input(\"Enter UserID as text:\")\n",
    "    isValid = checkTextValidity(user_input)\n",
    "    if isValid != \"Valid\" :\n",
    "        while isValid != \"Valid\" :\n",
    "            print(isValid)\n",
    "            user_input = input(\"Enter UserID as text:\")\n",
    "            isValid = checkTextValidity(user_input)\n",
    "    \n",
    "    #ask for password\n",
    "    pass_input = input(\"Enter password as text:\")\n",
    "    isPassValid = checkTextValidity(pass_input)\n",
    "    if isPassValid != \"Valid\" :\n",
    "        while isPassValid != \"Valid\" :\n",
    "            print(isPassValid)\n",
    "            pass_input = input(\"Enter password as text:\")\n",
    "            isPassValid = checkTextValidity(pass_input)\n",
    "   \n",
    "    #ask for N input\n",
    "    N_input = input(\"Please enter a value for N:\")\n",
    "    N_validity = checkNValidity(N_input)\n",
    "    if N_validity != \"Valid\" :\n",
    "        while N_validity != \"Valid\" :\n",
    "            print(N_validity)\n",
    "            N_input = input(\"Please enter a value for N:\")\n",
    "            N_validity = checkNValidity(N_input)\n",
    "     \n",
    "    #ask for D input \n",
    "    D_input = input(\"Please enter a value for D:\")\n",
    "    D_validity = checkDValidity(D_input)\n",
    "    if D_validity != \"Valid\" :\n",
    "        while D_validity != \"Valid\" :\n",
    "            print(D_validity)\n",
    "            D_input = input(\"Please enter a value for D:\")\n",
    "            D_validity = checkDValidity(D_input)\n",
    "            \n",
    "    encrypted_userID = customEncrypt(user_input, int(N_input), int(D_input))\n",
    "    encrypted_pass = customEncrypt(pass_input, int(N_input), int(D_input))\n",
    "    print(\"Encrypted userID: \" + encrypted_userID)\n",
    "    print(\"Encrypted password: \" + encrypted_pass)\n",
    "    \n",
    "    original_ID = customEncrypt(encrypted_userID, int(N_input), -1*int(D_input))\n",
    "    original_pass = customEncrypt(encrypted_pass, int(N_input), -1*int(D_input))\n",
    "    print(\"Original userID: \" + original_ID)\n",
    "    print(\"Original password: \" + original_pass)\n",
    "    \n",
    "    return\n"
   ]
  },
  {
   "cell_type": "markdown",
   "metadata": {},
   "source": [
    "1. Which of the userid and password combination(s) in the table above are present in the database?\n",
    "    asamant, Temp123\n",
    "    skharel, Life15$\n",
    "    \n",
    "2. Which userid(s) is/are present in the database, but the password does not match the password(s) in the table above?\n",
    "    aissa\n",
    "    bjha\n",
    "    \n",
    "3. Which userid(s) do/does not meet the requirementsof a userid?\n",
    "    Ally!\n",
    "    \n",
    "    \n",
    "    "
   ]
  },
  {
   "cell_type": "code",
   "execution_count": null,
   "metadata": {},
   "outputs": [],
   "source": []
  },
  {
   "cell_type": "code",
   "execution_count": null,
   "metadata": {},
   "outputs": [],
   "source": []
  },
  {
   "cell_type": "code",
   "execution_count": null,
   "metadata": {},
   "outputs": [],
   "source": []
  },
  {
   "cell_type": "code",
   "execution_count": null,
   "metadata": {},
   "outputs": [],
   "source": []
  },
  {
   "cell_type": "code",
   "execution_count": null,
   "metadata": {},
   "outputs": [],
   "source": []
  }
 ],
 "metadata": {
  "kernelspec": {
   "display_name": "Python 3",
   "language": "python",
   "name": "python3"
  },
  "language_info": {
   "codemirror_mode": {
    "name": "ipython",
    "version": 3
   },
   "file_extension": ".py",
   "mimetype": "text/x-python",
   "name": "python",
   "nbconvert_exporter": "python",
   "pygments_lexer": "ipython3",
   "version": "3.8.5"
  }
 },
 "nbformat": 4,
 "nbformat_minor": 4
}
